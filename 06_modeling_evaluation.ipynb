{
 "cells": [
  {
   "cell_type": "markdown",
   "id": "8d70343e",
   "metadata": {},
   "source": [
    "# Notebook 06: Modeling & Evaluation\n",
    "\n",
    "In this notebook, we demonstrate how to train and evaluate **baseline models** for air quality classification using the **pseudo-labeled dataset** generated in Notebook 05.  \n",
    "\n",
    "We train models on the **1-hour aggregated data** with pseudo-labels from KMeans and DBSCAN.  \n",
    "Performance is reported via **Accuracy** and **Macro-F1**, and results are compared to the annotated AQI categories discussed in the research paper.  \n",
    "\n",
    "> **Note:**  \n",
    "> This notebook is provided as a demonstration of the modeling workflow.  \n",
    "> In the research paper, training was performed on the **full dataset**, and the figures were refined for clarity."
   ]
  },
  {
   "cell_type": "markdown",
   "id": "a35ee984",
   "metadata": {},
   "source": [
    "> **Disclaimer:**  \n",
    "> The code and visualizations in this notebook are provided as an illustrative example of our workflow.  \n",
    "> For simplicity, we use a subset of the dataset and minimal preprocessing here.  \n",
    "> In the research paper, we used the **full dataset** and refined the plots (e.g., styling, formatting, layout) to better communicate the results.  \n",
    "> Thus, the figures shown in the paper may look different or \"prettier,\" but they were derived from the same pipeline presented here."
   ]
  },
  {
   "cell_type": "code",
   "execution_count": 1,
   "id": "50499c94",
   "metadata": {},
   "outputs": [],
   "source": [
    "# --- Imports ---\n",
    "import pandas as pd\n",
    "import numpy as np\n",
    "from sklearn.model_selection import train_test_split\n",
    "from sklearn.preprocessing import StandardScaler\n",
    "from sklearn.metrics import accuracy_score, f1_score, classification_report, confusion_matrix\n",
    "from sklearn.linear_model import LogisticRegression\n",
    "from sklearn.ensemble import RandomForestClassifier\n",
    "import seaborn as sns\n",
    "import matplotlib.pyplot as plt"
   ]
  },
  {
   "cell_type": "markdown",
   "id": "ce2450a5",
   "metadata": {},
   "source": [
    "## 1. Load the Pseudo-Labeled Dataset\n",
    "\n",
    "We use the file generated in Notebook 05:  \n",
    "`pseudo_labels_dbscan_kmeans_1hour.csv`  "
   ]
  },
  {
   "cell_type": "code",
   "execution_count": 2,
   "id": "967c872e",
   "metadata": {},
   "outputs": [
    {
     "name": "stdout",
     "output_type": "stream",
     "text": [
      "(1925, 8)\n"
     ]
    },
    {
     "data": {
      "text/html": [
       "<div>\n",
       "<style scoped>\n",
       "    .dataframe tbody tr th:only-of-type {\n",
       "        vertical-align: middle;\n",
       "    }\n",
       "\n",
       "    .dataframe tbody tr th {\n",
       "        vertical-align: top;\n",
       "    }\n",
       "\n",
       "    .dataframe thead th {\n",
       "        text-align: right;\n",
       "    }\n",
       "</style>\n",
       "<table border=\"1\" class=\"dataframe\">\n",
       "  <thead>\n",
       "    <tr style=\"text-align: right;\">\n",
       "      <th></th>\n",
       "      <th>timestamp</th>\n",
       "      <th>node_id</th>\n",
       "      <th>hih6130</th>\n",
       "      <th>hih6130.1</th>\n",
       "      <th>htu21d</th>\n",
       "      <th>htu21d.1</th>\n",
       "      <th>kmeans_label</th>\n",
       "      <th>dbscan_label</th>\n",
       "    </tr>\n",
       "  </thead>\n",
       "  <tbody>\n",
       "    <tr>\n",
       "      <th>0</th>\n",
       "      <td>NaN</td>\n",
       "      <td>NaN</td>\n",
       "      <td>humidity</td>\n",
       "      <td>temperature</td>\n",
       "      <td>humidity</td>\n",
       "      <td>temperature</td>\n",
       "      <td>NaN</td>\n",
       "      <td>NaN</td>\n",
       "    </tr>\n",
       "    <tr>\n",
       "      <th>1</th>\n",
       "      <td>2020-01-12 00:00:00</td>\n",
       "      <td>001e0610ee36</td>\n",
       "      <td>100.0</td>\n",
       "      <td>125.01</td>\n",
       "      <td>118.99</td>\n",
       "      <td>128.86</td>\n",
       "      <td>1.0</td>\n",
       "      <td>0.0</td>\n",
       "    </tr>\n",
       "    <tr>\n",
       "      <th>2</th>\n",
       "      <td>2020-01-12 00:00:00</td>\n",
       "      <td>001e0610ee43</td>\n",
       "      <td>29.881428571428568</td>\n",
       "      <td>23.9075</td>\n",
       "      <td>87.32321428571429</td>\n",
       "      <td>0.765</td>\n",
       "      <td>2.0</td>\n",
       "      <td>0.0</td>\n",
       "    </tr>\n",
       "    <tr>\n",
       "      <th>3</th>\n",
       "      <td>2020-01-12 00:00:00</td>\n",
       "      <td>001e0610f05c</td>\n",
       "      <td>65.01</td>\n",
       "      <td>17.57</td>\n",
       "      <td>118.99</td>\n",
       "      <td>0.0032857142857142</td>\n",
       "      <td>0.0</td>\n",
       "      <td>0.0</td>\n",
       "    </tr>\n",
       "    <tr>\n",
       "      <th>4</th>\n",
       "      <td>2020-01-12 00:00:00</td>\n",
       "      <td>001e06113107</td>\n",
       "      <td>67.20401459854016</td>\n",
       "      <td>5.088832116788321</td>\n",
       "      <td>95.23153284671533</td>\n",
       "      <td>0.0914598540145985</td>\n",
       "      <td>0.0</td>\n",
       "      <td>0.0</td>\n",
       "    </tr>\n",
       "  </tbody>\n",
       "</table>\n",
       "</div>"
      ],
      "text/plain": [
       "             timestamp       node_id             hih6130          hih6130.1  \\\n",
       "0                  NaN           NaN            humidity        temperature   \n",
       "1  2020-01-12 00:00:00  001e0610ee36               100.0             125.01   \n",
       "2  2020-01-12 00:00:00  001e0610ee43  29.881428571428568            23.9075   \n",
       "3  2020-01-12 00:00:00  001e0610f05c               65.01              17.57   \n",
       "4  2020-01-12 00:00:00  001e06113107   67.20401459854016  5.088832116788321   \n",
       "\n",
       "              htu21d            htu21d.1  kmeans_label  dbscan_label  \n",
       "0           humidity         temperature           NaN           NaN  \n",
       "1             118.99              128.86           1.0           0.0  \n",
       "2  87.32321428571429               0.765           2.0           0.0  \n",
       "3             118.99  0.0032857142857142           0.0           0.0  \n",
       "4  95.23153284671533  0.0914598540145985           0.0           0.0  "
      ]
     },
     "execution_count": 2,
     "metadata": {},
     "output_type": "execute_result"
    }
   ],
   "source": [
    "df = pd.read_csv(\"../data/aggregated/pseudo_labels_dbscan_kmeans_1hour.csv\")\n",
    "print(df.shape)\n",
    "df.head()"
   ]
  },
  {
   "cell_type": "markdown",
   "id": "7548c73d",
   "metadata": {},
   "source": [
    "## 2. Prepare Features and Labels\n",
    "\n",
    "- Features: all numeric sensor-parameter values.  \n",
    "- Labels: `kmeans_label` (primary) and optionally `dbscan_label`.  \n",
    "\n",
    "We drop rows where DBSCAN assigned `-1` (outliers)."
   ]
  },
  {
   "cell_type": "code",
   "execution_count": 5,
   "id": "e4afd713",
   "metadata": {},
   "outputs": [
    {
     "name": "stdout",
     "output_type": "stream",
     "text": [
      "Samples after cleaning: (1924, 4) (1924,)\n",
      "Unique labels: [0 1 2 3 4]\n"
     ]
    }
   ],
   "source": [
    "# --- Clean labels before splitting ---\n",
    "# Drop rows where kmeans_label is NaN\n",
    "df_clean = df.dropna(subset=[\"kmeans_label\"]).copy()\n",
    "\n",
    "# Extract features and labels\n",
    "X = df_clean[feature_cols].values\n",
    "y_kmeans = df_clean[\"kmeans_label\"].astype(int).values   # ensure labels are integers\n",
    "\n",
    "print(\"Samples after cleaning:\", X.shape, y_kmeans.shape)\n",
    "print(\"Unique labels:\", np.unique(y_kmeans))\n",
    "\n",
    "# Train/test split\n",
    "X_train, X_test, y_train, y_test = train_test_split(\n",
    "    X, y_kmeans, test_size=0.3, random_state=42, stratify=y_kmeans\n",
    ")\n"
   ]
  },
  {
   "cell_type": "markdown",
   "id": "76c155bd",
   "metadata": {},
   "source": [
    "## 3. Train/Test Split\n",
    "We split data into **70% training** and **30% testing**.  "
   ]
  },
  {
   "cell_type": "code",
   "execution_count": 6,
   "id": "bd8e870c",
   "metadata": {},
   "outputs": [],
   "source": [
    "X_train, X_test, y_train, y_test = train_test_split(X, y_kmeans, test_size=0.3, random_state=42, stratify=y_kmeans)"
   ]
  },
  {
   "cell_type": "markdown",
   "id": "dae2abc3",
   "metadata": {},
   "source": [
    "## 4. Baseline Models\n",
    "\n",
    "We train two models for demonstration:  \n",
    "\n",
    "- **Logistic Regression** (simple linear baseline).  \n",
    "- **Random Forest Classifier** (nonlinear ensemble).  "
   ]
  },
  {
   "cell_type": "code",
   "execution_count": 7,
   "id": "0fbd3907",
   "metadata": {},
   "outputs": [
    {
     "name": "stderr",
     "output_type": "stream",
     "text": [
      "/Users/razalimirza/Desktop/AoT-Node-Similarity-Analysis/env/lib/python3.12/site-packages/sklearn/linear_model/_logistic.py:1247: FutureWarning: 'multi_class' was deprecated in version 1.5 and will be removed in 1.7. From then on, it will always use 'multinomial'. Leave it to its default value to avoid this warning.\n",
      "  warnings.warn(\n"
     ]
    }
   ],
   "source": [
    "# Logistic Regression\n",
    "logreg = LogisticRegression(max_iter=500, multi_class=\"multinomial\")\n",
    "logreg.fit(X_train, y_train)\n",
    "y_pred_log = logreg.predict(X_test)\n",
    "\n",
    "# Random Forest\n",
    "rf = RandomForestClassifier(n_estimators=100, random_state=42)\n",
    "rf.fit(X_train, y_train)\n",
    "y_pred_rf = rf.predict(X_test)"
   ]
  },
  {
   "cell_type": "markdown",
   "id": "3cc94085",
   "metadata": {},
   "source": [
    "## 5. Evaluation Metrics\n",
    "\n",
    "We evaluate models with:  \n",
    "- **Accuracy**  \n",
    "- **Macro-F1**  \n",
    "- **Confusion Matrix**  "
   ]
  },
  {
   "cell_type": "code",
   "execution_count": 8,
   "id": "19d1526f",
   "metadata": {},
   "outputs": [
    {
     "name": "stdout",
     "output_type": "stream",
     "text": [
      "Logistic Regression - Accuracy: 1.000, Macro-F1: 1.000\n",
      "              precision    recall  f1-score   support\n",
      "\n",
      "           0       1.00      1.00      1.00       170\n",
      "           1       1.00      1.00      1.00       239\n",
      "           2       1.00      1.00      1.00       101\n",
      "           3       1.00      1.00      1.00        43\n",
      "           4       1.00      1.00      1.00        25\n",
      "\n",
      "    accuracy                           1.00       578\n",
      "   macro avg       1.00      1.00      1.00       578\n",
      "weighted avg       1.00      1.00      1.00       578\n",
      "\n"
     ]
    },
    {
     "data": {
      "image/png": "[encoded data removed]",
      "text/plain": [
       "<Figure size 600x500 with 2 Axes>"
      ]
     },
     "metadata": {},
     "output_type": "display_data"
    },
    {
     "name": "stdout",
     "output_type": "stream",
     "text": [
      "Random Forest - Accuracy: 0.998, Macro-F1: 0.995\n",
      "              precision    recall  f1-score   support\n",
      "\n",
      "           0       0.99      1.00      1.00       170\n",
      "           1       1.00      1.00      1.00       239\n",
      "           2       1.00      1.00      1.00       101\n",
      "           3       1.00      1.00      1.00        43\n",
      "           4       1.00      0.96      0.98        25\n",
      "\n",
      "    accuracy                           1.00       578\n",
      "   macro avg       1.00      0.99      1.00       578\n",
      "weighted avg       1.00      1.00      1.00       578\n",
      "\n"
     ]
    },
    {
     "data": {
      "image/png": "[encoded data removed]",
      "text/plain": [
       "<Figure size 600x500 with 2 Axes>"
      ]
     },
     "metadata": {},
     "output_type": "display_data"
    }
   ],
   "source": [
    "def evaluate(y_true, y_pred, model_name):\n",
    "    acc = accuracy_score(y_true, y_pred)\n",
    "    f1 = f1_score(y_true, y_pred, average=\"macro\")\n",
    "    print(f\"{model_name} - Accuracy: {acc:.3f}, Macro-F1: {f1:.3f}\")\n",
    "    print(classification_report(y_true, y_pred))\n",
    "\n",
    "    cm = confusion_matrix(y_true, y_pred)\n",
    "    plt.figure(figsize=(6,5))\n",
    "    sns.heatmap(cm, annot=True, fmt=\"d\", cmap=\"Blues\")\n",
    "    plt.title(f\"{model_name} Confusion Matrix\")\n",
    "    plt.xlabel(\"Predicted\")\n",
    "    plt.ylabel(\"True\")\n",
    "    plt.show()\n",
    "\n",
    "# Evaluate both models\n",
    "evaluate(y_test, y_pred_log, \"Logistic Regression\")\n",
    "evaluate(y_test, y_pred_rf, \"Random Forest\")"
   ]
  },
  {
   "cell_type": "markdown",
   "id": "086c571d",
   "metadata": {},
   "source": [
    "## 6. Notes\n",
    "\n",
    "- **Pseudo-labels are not ground truth**: They provide an unsupervised grouping aligned with AQI categories but should not be interpreted as official air quality annotations.  \n",
    "- Logistic Regression offers a lightweight baseline, while Random Forest captures more complex feature interactions.  \n",
    "- Results shown here are **illustrative**. For the research paper, training was performed on the **full dataset**, and figures were refined for readability.  "
   ]
  },
  {
   "cell_type": "markdown",
   "id": "ff86a12b",
   "metadata": {},
   "source": []
  }
 ],
 "metadata": {
  "kernelspec": {
   "display_name": "env (3.12.1)",
   "language": "python",
   "name": "python3"
  },
  "language_info": {
   "codemirror_mode": {
    "name": "ipython",
    "version": 3
   },
   "file_extension": ".py",
   "mimetype": "text/x-python",
   "name": "python",
   "nbconvert_exporter": "python",
   "pygments_lexer": "ipython3",
   "version": "3.12.1"
  }
 },
 "nbformat": 4,
 "nbformat_minor": 5
}
