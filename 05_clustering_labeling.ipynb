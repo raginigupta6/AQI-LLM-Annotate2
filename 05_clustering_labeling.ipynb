{
 "cells": [
  {
   "cell_type": "markdown",
   "id": "a89a45f1",
   "metadata": {},
   "source": [
    "# Notebook 05: Clustering & Pseudo-Labeling (1-Hour Aggregates)\n",
    "\n",
    "In this notebook, we demonstrate how to generate **pseudo-labels** for air quality classification using clustering methods.  \n",
    "The goal is to create *unsupervised groups* from the **1-hour aggregated AoT sensor data** that can later support supervised modeling.  \n",
    "\n",
    "We apply **DBSCAN** and **KMeans** on pollutant + environmental features, then save the results as  \n",
    "`pseudo_labels_dbscan_kmeans_1hour.csv` (included in the dataset folder).  \n",
    "\n",
    "This workflow provides reproducible evidence for how pseudo-labels were created in the research pipeline.\n",
    "\n"
   ]
  },
  {
   "cell_type": "code",
   "execution_count": 1,
   "id": "87eac2bf",
   "metadata": {},
   "outputs": [],
   "source": [
    "# --- Imports ---\n",
    "import pandas as pd\n",
    "import numpy as np\n",
    "from sklearn.preprocessing import StandardScaler\n",
    "from sklearn.cluster import KMeans, DBSCAN\n",
    "from sklearn.decomposition import PCA\n",
    "import matplotlib.pyplot as plt\n",
    "import seaborn as sns"
   ]
  },
  {
   "cell_type": "markdown",
   "id": "ee650c6c",
   "metadata": {},
   "source": [
    "## 1. Load the Aggregated Data\n",
    "\n",
    "We use the **1-hour aggregated file** (`aot_aggregated_1hour.csv`).  \n",
    "This file provides stable averages over longer windows, making it suitable for clustering and pseudo-label generation.  "
   ]
  },
  {
   "cell_type": "code",
   "execution_count": 3,
   "id": "74536164",
   "metadata": {},
   "outputs": [
    {
     "name": "stdout",
     "output_type": "stream",
     "text": [
      "(10091, 5)\n"
     ]
    },
    {
     "data": {
      "text/html": [
       "<div>\n",
       "<style scoped>\n",
       "    .dataframe tbody tr th:only-of-type {\n",
       "        vertical-align: middle;\n",
       "    }\n",
       "\n",
       "    .dataframe tbody tr th {\n",
       "        vertical-align: top;\n",
       "    }\n",
       "\n",
       "    .dataframe thead th {\n",
       "        text-align: right;\n",
       "    }\n",
       "</style>\n",
       "<table border=\"1\" class=\"dataframe\">\n",
       "  <thead>\n",
       "    <tr style=\"text-align: right;\">\n",
       "      <th></th>\n",
       "      <th>timestamp</th>\n",
       "      <th>node_id</th>\n",
       "      <th>sensor</th>\n",
       "      <th>parameter</th>\n",
       "      <th>value_hrf</th>\n",
       "    </tr>\n",
       "  </thead>\n",
       "  <tbody>\n",
       "    <tr>\n",
       "      <th>0</th>\n",
       "      <td>2020-01-12 00:00:00</td>\n",
       "      <td>001e0610ee36</td>\n",
       "      <td>hih6130</td>\n",
       "      <td>humidity</td>\n",
       "      <td>100.000000</td>\n",
       "    </tr>\n",
       "    <tr>\n",
       "      <th>1</th>\n",
       "      <td>2020-01-12 00:00:00</td>\n",
       "      <td>001e0610ee36</td>\n",
       "      <td>hih6130</td>\n",
       "      <td>temperature</td>\n",
       "      <td>125.010000</td>\n",
       "    </tr>\n",
       "    <tr>\n",
       "      <th>2</th>\n",
       "      <td>2020-01-12 00:00:00</td>\n",
       "      <td>001e0610ee36</td>\n",
       "      <td>htu21d</td>\n",
       "      <td>humidity</td>\n",
       "      <td>118.990000</td>\n",
       "    </tr>\n",
       "    <tr>\n",
       "      <th>3</th>\n",
       "      <td>2020-01-12 00:00:00</td>\n",
       "      <td>001e0610ee36</td>\n",
       "      <td>htu21d</td>\n",
       "      <td>temperature</td>\n",
       "      <td>128.860000</td>\n",
       "    </tr>\n",
       "    <tr>\n",
       "      <th>4</th>\n",
       "      <td>2020-01-12 00:00:00</td>\n",
       "      <td>001e0610ee43</td>\n",
       "      <td>co</td>\n",
       "      <td>concentration</td>\n",
       "      <td>-0.437003</td>\n",
       "    </tr>\n",
       "  </tbody>\n",
       "</table>\n",
       "</div>"
      ],
      "text/plain": [
       "             timestamp       node_id   sensor      parameter   value_hrf\n",
       "0  2020-01-12 00:00:00  001e0610ee36  hih6130       humidity  100.000000\n",
       "1  2020-01-12 00:00:00  001e0610ee36  hih6130    temperature  125.010000\n",
       "2  2020-01-12 00:00:00  001e0610ee36   htu21d       humidity  118.990000\n",
       "3  2020-01-12 00:00:00  001e0610ee36   htu21d    temperature  128.860000\n",
       "4  2020-01-12 00:00:00  001e0610ee43       co  concentration   -0.437003"
      ]
     },
     "execution_count": 3,
     "metadata": {},
     "output_type": "execute_result"
    }
   ],
   "source": [
    "# Load 1-hour aggregated data\n",
    "df = pd.read_csv(\"../data/aggregated/aot_aggregated_1hour.csv\")\n",
    "print(df.shape)\n",
    "df.head()"
   ]
  },
  {
   "cell_type": "markdown",
   "id": "cb56af60",
   "metadata": {},
   "source": [
    "## 2. Preprocess Features\n",
    "\n",
    "We select pollutant and environmental variables and transform the dataset into  \n",
    "a **pivot table** where rows represent `(timestamp, node_id)` and columns represent `(sensor, parameter)`.  \n",
    "\n",
    "Missing values are filled with zeros before clustering."
   ]
  },
  {
   "cell_type": "code",
   "execution_count": 4,
   "id": "f9a7439c",
   "metadata": {},
   "outputs": [
    {
     "name": "stdout",
     "output_type": "stream",
     "text": [
      "(1924, 4)\n"
     ]
    },
    {
     "data": {
      "text/html": [
       "<div>\n",
       "<style scoped>\n",
       "    .dataframe tbody tr th:only-of-type {\n",
       "        vertical-align: middle;\n",
       "    }\n",
       "\n",
       "    .dataframe tbody tr th {\n",
       "        vertical-align: top;\n",
       "    }\n",
       "\n",
       "    .dataframe thead tr th {\n",
       "        text-align: left;\n",
       "    }\n",
       "\n",
       "    .dataframe thead tr:last-of-type th {\n",
       "        text-align: right;\n",
       "    }\n",
       "</style>\n",
       "<table border=\"1\" class=\"dataframe\">\n",
       "  <thead>\n",
       "    <tr>\n",
       "      <th></th>\n",
       "      <th>sensor</th>\n",
       "      <th colspan=\"2\" halign=\"left\">hih6130</th>\n",
       "      <th colspan=\"2\" halign=\"left\">htu21d</th>\n",
       "    </tr>\n",
       "    <tr>\n",
       "      <th></th>\n",
       "      <th>parameter</th>\n",
       "      <th>humidity</th>\n",
       "      <th>temperature</th>\n",
       "      <th>humidity</th>\n",
       "      <th>temperature</th>\n",
       "    </tr>\n",
       "    <tr>\n",
       "      <th>timestamp</th>\n",
       "      <th>node_id</th>\n",
       "      <th></th>\n",
       "      <th></th>\n",
       "      <th></th>\n",
       "      <th></th>\n",
       "    </tr>\n",
       "  </thead>\n",
       "  <tbody>\n",
       "    <tr>\n",
       "      <th rowspan=\"5\" valign=\"top\">2020-01-12 00:00:00</th>\n",
       "      <th>001e0610ee36</th>\n",
       "      <td>100.000000</td>\n",
       "      <td>125.010000</td>\n",
       "      <td>118.990000</td>\n",
       "      <td>128.860000</td>\n",
       "    </tr>\n",
       "    <tr>\n",
       "      <th>001e0610ee43</th>\n",
       "      <td>29.881429</td>\n",
       "      <td>23.907500</td>\n",
       "      <td>87.323214</td>\n",
       "      <td>0.765000</td>\n",
       "    </tr>\n",
       "    <tr>\n",
       "      <th>001e0610f05c</th>\n",
       "      <td>65.010000</td>\n",
       "      <td>17.570000</td>\n",
       "      <td>118.990000</td>\n",
       "      <td>0.003286</td>\n",
       "    </tr>\n",
       "    <tr>\n",
       "      <th>001e06113107</th>\n",
       "      <td>67.204015</td>\n",
       "      <td>5.088832</td>\n",
       "      <td>95.231533</td>\n",
       "      <td>0.091460</td>\n",
       "    </tr>\n",
       "    <tr>\n",
       "      <th>001e06113ad8</th>\n",
       "      <td>35.240320</td>\n",
       "      <td>15.911920</td>\n",
       "      <td>-6.000000</td>\n",
       "      <td>-1.677953</td>\n",
       "    </tr>\n",
       "  </tbody>\n",
       "</table>\n",
       "</div>"
      ],
      "text/plain": [
       "sensor                               hih6130                  htu21d  \\\n",
       "parameter                           humidity temperature    humidity   \n",
       "timestamp           node_id                                            \n",
       "2020-01-12 00:00:00 001e0610ee36  100.000000  125.010000  118.990000   \n",
       "                    001e0610ee43   29.881429   23.907500   87.323214   \n",
       "                    001e0610f05c   65.010000   17.570000  118.990000   \n",
       "                    001e06113107   67.204015    5.088832   95.231533   \n",
       "                    001e06113ad8   35.240320   15.911920   -6.000000   \n",
       "\n",
       "sensor                                        \n",
       "parameter                        temperature  \n",
       "timestamp           node_id                   \n",
       "2020-01-12 00:00:00 001e0610ee36  128.860000  \n",
       "                    001e0610ee43    0.765000  \n",
       "                    001e0610f05c    0.003286  \n",
       "                    001e06113107    0.091460  \n",
       "                    001e06113ad8   -1.677953  "
      ]
     },
     "execution_count": 4,
     "metadata": {},
     "output_type": "execute_result"
    }
   ],
   "source": [
    "# Define target features\n",
    "pollutants = [\"co\", \"no2\", \"so2\", \"pm25\"]\n",
    "env_vars = [\"temperature\", \"humidity\", \"pressure\"]\n",
    "\n",
    "df_subset = df[df[\"parameter\"].isin(pollutants + env_vars)].copy()\n",
    "\n",
    "# Pivot table: rows = timestamp + node, cols = sensor-parameter\n",
    "df_pivot = df_subset.pivot_table(\n",
    "    index=[\"timestamp\",\"node_id\"],\n",
    "    columns=[\"sensor\",\"parameter\"],\n",
    "    values=\"value_hrf\"\n",
    ").fillna(0)\n",
    "\n",
    "print(df_pivot.shape)\n",
    "df_pivot.head()"
   ]
  },
  {
   "cell_type": "markdown",
   "id": "23034f96",
   "metadata": {},
   "source": [
    "## 3. Normalize the Data\n",
    "\n",
    "We apply **StandardScaler** to normalize features before clustering.  \n",
    "This ensures each variable contributes equally, regardless of scale.  "
   ]
  },
  {
   "cell_type": "code",
   "execution_count": 5,
   "id": "e6638462",
   "metadata": {},
   "outputs": [],
   "source": [
    "scaler = StandardScaler()\n",
    "X = scaler.fit_transform(df_pivot)"
   ]
  },
  {
   "cell_type": "markdown",
   "id": "6d999d88",
   "metadata": {},
   "source": [
    "## 4. Apply Clustering Algorithms\n",
    "\n",
    "We use two clustering approaches:  \n",
    "\n",
    "- **KMeans (k=5):** Partitions data into a fixed number of clusters.  \n",
    "- **DBSCAN (eps=2.0, min_samples=10):** Density-based clustering that discovers arbitrary-shaped clusters.  \n",
    "\n",
    "Both cluster assignments are saved as new columns in the pivot table."
   ]
  },
  {
   "cell_type": "code",
   "execution_count": 6,
   "id": "6d954206",
   "metadata": {},
   "outputs": [
    {
     "data": {
      "text/html": [
       "<div>\n",
       "<style scoped>\n",
       "    .dataframe tbody tr th:only-of-type {\n",
       "        vertical-align: middle;\n",
       "    }\n",
       "\n",
       "    .dataframe tbody tr th {\n",
       "        vertical-align: top;\n",
       "    }\n",
       "\n",
       "    .dataframe thead tr th {\n",
       "        text-align: left;\n",
       "    }\n",
       "\n",
       "    .dataframe thead tr:last-of-type th {\n",
       "        text-align: right;\n",
       "    }\n",
       "</style>\n",
       "<table border=\"1\" class=\"dataframe\">\n",
       "  <thead>\n",
       "    <tr>\n",
       "      <th></th>\n",
       "      <th>sensor</th>\n",
       "      <th colspan=\"2\" halign=\"left\">hih6130</th>\n",
       "      <th colspan=\"2\" halign=\"left\">htu21d</th>\n",
       "      <th>kmeans_label</th>\n",
       "      <th>dbscan_label</th>\n",
       "    </tr>\n",
       "    <tr>\n",
       "      <th></th>\n",
       "      <th>parameter</th>\n",
       "      <th>humidity</th>\n",
       "      <th>temperature</th>\n",
       "      <th>humidity</th>\n",
       "      <th>temperature</th>\n",
       "      <th></th>\n",
       "      <th></th>\n",
       "    </tr>\n",
       "    <tr>\n",
       "      <th>timestamp</th>\n",
       "      <th>node_id</th>\n",
       "      <th></th>\n",
       "      <th></th>\n",
       "      <th></th>\n",
       "      <th></th>\n",
       "      <th></th>\n",
       "      <th></th>\n",
       "    </tr>\n",
       "  </thead>\n",
       "  <tbody>\n",
       "    <tr>\n",
       "      <th rowspan=\"5\" valign=\"top\">2020-01-12 00:00:00</th>\n",
       "      <th>001e0610ee36</th>\n",
       "      <td>100.000000</td>\n",
       "      <td>125.010000</td>\n",
       "      <td>118.990000</td>\n",
       "      <td>128.860000</td>\n",
       "      <td>1</td>\n",
       "      <td>0</td>\n",
       "    </tr>\n",
       "    <tr>\n",
       "      <th>001e0610ee43</th>\n",
       "      <td>29.881429</td>\n",
       "      <td>23.907500</td>\n",
       "      <td>87.323214</td>\n",
       "      <td>0.765000</td>\n",
       "      <td>2</td>\n",
       "      <td>0</td>\n",
       "    </tr>\n",
       "    <tr>\n",
       "      <th>001e0610f05c</th>\n",
       "      <td>65.010000</td>\n",
       "      <td>17.570000</td>\n",
       "      <td>118.990000</td>\n",
       "      <td>0.003286</td>\n",
       "      <td>0</td>\n",
       "      <td>0</td>\n",
       "    </tr>\n",
       "    <tr>\n",
       "      <th>001e06113107</th>\n",
       "      <td>67.204015</td>\n",
       "      <td>5.088832</td>\n",
       "      <td>95.231533</td>\n",
       "      <td>0.091460</td>\n",
       "      <td>0</td>\n",
       "      <td>0</td>\n",
       "    </tr>\n",
       "    <tr>\n",
       "      <th>001e06113ad8</th>\n",
       "      <td>35.240320</td>\n",
       "      <td>15.911920</td>\n",
       "      <td>-6.000000</td>\n",
       "      <td>-1.677953</td>\n",
       "      <td>4</td>\n",
       "      <td>0</td>\n",
       "    </tr>\n",
       "  </tbody>\n",
       "</table>\n",
       "</div>"
      ],
      "text/plain": [
       "sensor                               hih6130                  htu21d  \\\n",
       "parameter                           humidity temperature    humidity   \n",
       "timestamp           node_id                                            \n",
       "2020-01-12 00:00:00 001e0610ee36  100.000000  125.010000  118.990000   \n",
       "                    001e0610ee43   29.881429   23.907500   87.323214   \n",
       "                    001e0610f05c   65.010000   17.570000  118.990000   \n",
       "                    001e06113107   67.204015    5.088832   95.231533   \n",
       "                    001e06113ad8   35.240320   15.911920   -6.000000   \n",
       "\n",
       "sensor                                       kmeans_label dbscan_label  \n",
       "parameter                        temperature                            \n",
       "timestamp           node_id                                             \n",
       "2020-01-12 00:00:00 001e0610ee36  128.860000            1            0  \n",
       "                    001e0610ee43    0.765000            2            0  \n",
       "                    001e0610f05c    0.003286            0            0  \n",
       "                    001e06113107    0.091460            0            0  \n",
       "                    001e06113ad8   -1.677953            4            0  "
      ]
     },
     "execution_count": 6,
     "metadata": {},
     "output_type": "execute_result"
    }
   ],
   "source": [
    "# KMeans clustering\n",
    "kmeans = KMeans(n_clusters=5, random_state=42)\n",
    "df_pivot[\"kmeans_label\"] = kmeans.fit_predict(X)\n",
    "\n",
    "# DBSCAN clustering\n",
    "dbscan = DBSCAN(eps=2.0, min_samples=10)\n",
    "df_pivot[\"dbscan_label\"] = dbscan.fit_predict(X)\n",
    "\n",
    "df_pivot.head()"
   ]
  },
  {
   "cell_type": "markdown",
   "id": "5062c2e7",
   "metadata": {},
   "source": [
    "## 5. Save Pseudo-Labels\n",
    "\n",
    "We now save the clustering results to  \n",
    "`../data/aggregated/pseudo_labels_dbscan_kmeans_1hour.csv`.  \n",
    "\n",
    "This file can be used for downstream supervised modeling.  "
   ]
  },
  {
   "cell_type": "code",
   "execution_count": 7,
   "id": "3a6b5960",
   "metadata": {},
   "outputs": [
    {
     "name": "stdout",
     "output_type": "stream",
     "text": [
      "Saved clustering results to ../data/aggregated/pseudo_labels_dbscan_kmeans_1hour.csv\n"
     ]
    }
   ],
   "source": [
    "out_path = \"../data/aggregated/pseudo_labels_dbscan_kmeans_1hour.csv\"\n",
    "df_pivot.reset_index().to_csv(out_path, index=False)\n",
    "print(f\"Saved clustering results to {out_path}\")"
   ]
  },
  {
   "cell_type": "markdown",
   "id": "5f7699b4",
   "metadata": {},
   "source": [
    "## 6. Visualize Clustering (Optional)\n",
    "\n",
    "To get an intuition of clustering behavior, we reduce the feature space to **2D PCA coordinates**  \n",
    "and plot clusters as colored scatterplots."
   ]
  },
  {
   "cell_type": "code",
   "execution_count": 8,
   "id": "0922964e",
   "metadata": {},
   "outputs": [
    {
     "data": {
      "image/png": "[encoded data removed]",
      "text/plain": [
       "<Figure size 1000x500 with 2 Axes>"
      ]
     },
     "metadata": {},
     "output_type": "display_data"
    }
   ],
   "source": [
    "pca = PCA(n_components=2)\n",
    "coords = pca.fit_transform(X)\n",
    "\n",
    "plt.figure(figsize=(10,5))\n",
    "\n",
    "# KMeans visualization\n",
    "plt.subplot(1,2,1)\n",
    "plt.scatter(coords[:,0], coords[:,1], c=df_pivot[\"kmeans_label\"], cmap=\"tab10\", alpha=0.6)\n",
    "plt.title(\"KMeans Clustering (k=5)\")\n",
    "plt.xlabel(\"PCA 1\")\n",
    "plt.ylabel(\"PCA 2\")\n",
    "\n",
    "# DBSCAN visualization\n",
    "plt.subplot(1,2,2)\n",
    "plt.scatter(coords[:,0], coords[:,1], c=df_pivot[\"dbscan_label\"], cmap=\"tab10\", alpha=0.6)\n",
    "plt.title(\"DBSCAN Clustering (eps=2.0, min_samples=10)\")\n",
    "plt.xlabel(\"PCA 1\")\n",
    "plt.ylabel(\"PCA 2\")\n",
    "\n",
    "plt.tight_layout()\n",
    "plt.show()"
   ]
  },
  {
   "cell_type": "markdown",
   "id": "4278960f",
   "metadata": {},
   "source": [
    "## 7. Notes\n",
    "\n",
    "- The number of clusters (`k=5` for KMeans) was chosen to align with AQI categories,  \n",
    "  but this is adjustable depending on the research question.  \n",
    "- DBSCAN may label some points as `-1` (outliers).  \n",
    "- The generated pseudo-labels are exploratory and **not ground truth**,  \n",
    "  but they provide a useful scaffold for supervised model training.  "
   ]
  },
  {
   "cell_type": "markdown",
   "id": "7a06c6ce",
   "metadata": {},
   "source": [
    "> **Disclaimer:**  \n",
    "> The clustering and visualization steps in this notebook are shown on a **smaller subset of the AoT dataset** for demonstration purposes.  \n",
    "> In the actual research paper, clustering was performed on the **full dataset**, and the resulting plots were further refined (color palettes, axis formatting, annotations) to ensure readability and publication quality.  \n",
    "> The workflow here is representative of the process, but the exact outputs may differ from those presented in the paper."
   ]
  },
  {
   "cell_type": "markdown",
   "id": "ba2a84a4",
   "metadata": {},
   "source": []
  }
 ],
 "metadata": {
  "kernelspec": {
   "display_name": "env (3.12.1)",
   "language": "python",
   "name": "python3"
  },
  "language_info": {
   "codemirror_mode": {
    "name": "ipython",
    "version": 3
   },
   "file_extension": ".py",
   "mimetype": "text/x-python",
   "name": "python",
   "nbconvert_exporter": "python",
   "pygments_lexer": "ipython3",
   "version": "3.12.1"
  }
 },
 "nbformat": 4,
 "nbformat_minor": 5
}
